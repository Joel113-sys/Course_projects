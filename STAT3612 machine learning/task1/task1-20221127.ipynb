{
 "cells": [
  {
   "cell_type": "markdown",
   "metadata": {
    "id": "FLig0QKfrbEa"
   },
   "source": [
    "# Models"
   ]
  },
  {
   "cell_type": "markdown",
   "metadata": {
    "id": "Q42cPvK1t68b"
   },
   "source": [
    "## Initialization and Loading Data\n"
   ]
  },
  {
   "cell_type": "markdown",
   "metadata": {
    "id": "O0FkVpnWZys3"
   },
   "source": [
    "### Init"
   ]
  },
  {
   "cell_type": "code",
   "execution_count": null,
   "metadata": {
    "colab": {
     "base_uri": "https://localhost:8080/"
    },
    "executionInfo": {
     "elapsed": 3403,
     "status": "ok",
     "timestamp": 1669555281467,
     "user": {
      "displayName": "Hanwen Li",
      "userId": "17980221068096728332"
     },
     "user_tz": -480
    },
    "id": "8chJDHPwubfc",
    "outputId": "339b4acc-8c5a-4ded-8a16-d7a372321f6c"
   },
   "outputs": [
    {
     "name": "stdout",
     "output_type": "stream",
     "text": [
      "Drive already mounted at /content/drive; to attempt to forcibly remount, call drive.mount(\"/content/drive\", force_remount=True).\n",
      "/content/drive/MyDrive/HKU/STAT3612/Project\n"
     ]
    }
   ],
   "source": [
    "from google.colab import drive\n",
    "drive.mount('/content/drive')\n",
    "%cd /content/drive/MyDrive/HKU/STAT3612/Project/"
   ]
  },
  {
   "cell_type": "code",
   "execution_count": null,
   "metadata": {
    "id": "D57C0ljsthbd"
   },
   "outputs": [],
   "source": [
    "import pandas as pd\n",
    "import numpy as np\n",
    "import matplotlib.pyplot as plt\n",
    "import warnings\n",
    "warnings.filterwarnings(\"ignore\")\n",
    "\n",
    "seed = 4250"
   ]
  },
  {
   "cell_type": "code",
   "execution_count": null,
   "metadata": {
    "id": "6DlbcyNklZeQ"
   },
   "outputs": [],
   "source": [
    "from sklearn.metrics import accuracy_score, roc_auc_score, confusion_matrix\n",
    "from sklearn.preprocessing import StandardScaler, MinMaxScaler\n",
    "from sklearn.metrics import mean_squared_error as mse\n",
    "from sklearn.metrics import plot_roc_curve\n",
    "from sklearn.metrics import roc_curve"
   ]
  },
  {
   "cell_type": "markdown",
   "metadata": {
    "id": "OJru7LH9elnF"
   },
   "source": [
    "### Useful functions"
   ]
  },
  {
   "cell_type": "code",
   "execution_count": null,
   "metadata": {
    "id": "GWmOUU-XeoBa"
   },
   "outputs": [],
   "source": [
    "def evaluate(rf, train, valid, test, train_y, valid_y, return_pred=False, version=1, return_auc=False, plot_auc=False):\n",
    "    if version == 2:\n",
    "        rf_train_y = rf.predict(train)\n",
    "        rf_valid_y = rf.predict(valid)\n",
    "        pred = rf.predict(test)\n",
    "        acr_train = rf.score(train, train_y)\n",
    "        acr_valid = rf.score(valid, valid_y)\n",
    "        print(f\"Train Accuracy: {acr_train:.4f}; Validation Accuracy: {acr_valid:.4f}; Test: {np.sum(pred):>4d}\")\n",
    "        cm = confusion_matrix(train_y, rf_train_y)\n",
    "        tn, fp, fn, tp = cm.ravel()\n",
    "        print(f\"Train AUROC: {roc_auc_score(train_y, rf_train_y):.4f}; FP: {fp:>4d}; FN: {fn:>4d}\")\n",
    "        cm = confusion_matrix(valid_y, rf_valid_y)\n",
    "        tn, fp, fn, tp = cm.ravel()\n",
    "        print(f\"Valid AUROC: {roc_auc_score(valid_y, rf_valid_y):.4f}; FP: {fp:>4d}; FN: {fn:>4d}\")\n",
    "        print()\n",
    "    elif version == 3:\n",
    "        pred_train = rf.predict(train)\n",
    "        pred_valid = rf.predict(valid)\n",
    "        pred = rf.predict(test)\n",
    "        print(f\"Train RMSE: {mse(train_y, pred_train, squared=False):.4f}\")\n",
    "        print(f\"Valid RMSE: {mse(valid_y, pred_valid, squared=False):.4f}\")\n",
    "    else:\n",
    "        rf_train_y = rf.predict_proba(train)[:,1]\n",
    "        rf_valid_y = rf.predict_proba(valid)[:,1]\n",
    "        pred = rf.predict_proba(test)[:,1]\n",
    "        acr_train = rf.score(train, train_y)\n",
    "        acr_valid = rf.score(valid, valid_y)\n",
    "        print(f\"Train Accuracy: {acr_train:.4f}; Validation Accuracy: {acr_valid:.4f}\")\n",
    "        auc_train = roc_auc_score(train_y, rf_train_y)\n",
    "        auc_valid = roc_auc_score(valid_y, rf_valid_y)\n",
    "        print(f\"Train AUROC: {auc_train:.4f}\")\n",
    "        print(f\"Valid AUROC: {auc_valid:.4f}\")\n",
    "        print()\n",
    "    if plot_auc:\n",
    "        try:\n",
    "            fpr1, tpr1, thresholds1 = roc_curve(train_y, rf_train_y)\n",
    "            fpr2, tpr2, thresholds2 = roc_curve(valid_y, rf_valid_y)\n",
    "            plt.plot([0,1], 'k--')\n",
    "            plt.plot(fpr1, tpr1, label= \"Train\")\n",
    "            plt.plot(fpr2, tpr2, label= \"Valid\")\n",
    "            plt.legend()\n",
    "            plt.xlabel(\"FPR\")\n",
    "            plt.ylabel(\"TPR\")\n",
    "            plt.title('AUROC Curve')\n",
    "            plt.show()\n",
    "            # plot_roc_curve(rf, train, train_y)\n",
    "            # plot_roc_curve(rf, valid, valid_y)\n",
    "        except:\n",
    "            pass\n",
    "    if return_pred and return_auc and version == 1:\n",
    "        return pred, auc_train, auc_valid\n",
    "    elif return_pred:\n",
    "        return pred\n",
    "    else:\n",
    "        return"
   ]
  },
  {
   "cell_type": "code",
   "execution_count": null,
   "metadata": {
    "id": "eyzvjvk2eoJK"
   },
   "outputs": [],
   "source": [
    "def std(train, valid, test=None):\n",
    "    scaler = StandardScaler()\n",
    "    scaler.fit(train)\n",
    "    train = scaler.transform(train)\n",
    "    valid = scaler.transform(valid)\n",
    "    if test is None:\n",
    "        return train, valid\n",
    "    else:\n",
    "        test = scaler.transform(test)\n",
    "        return train, valid, test"
   ]
  },
  {
   "cell_type": "code",
   "execution_count": null,
   "metadata": {
    "id": "8PD9QMYYrBYw"
   },
   "outputs": [],
   "source": [
    "def minmax(train, valid, test=None):\n",
    "    scaler = MinMaxScaler()\n",
    "    scaler.fit(train)\n",
    "    train = scaler.transform(train)\n",
    "    valid = scaler.transform(valid)\n",
    "    if test is None:\n",
    "        return train, valid\n",
    "    else:\n",
    "        test = scaler.transform(test)\n",
    "        return train, valid, test"
   ]
  },
  {
   "cell_type": "code",
   "execution_count": null,
   "metadata": {
    "id": "Q9n7lnMP0bl1"
   },
   "outputs": [],
   "source": []
  },
  {
   "cell_type": "markdown",
   "metadata": {
    "id": "oYWTQsbMvNxU"
   },
   "source": [
    "### Prepare X"
   ]
  },
  {
   "cell_type": "markdown",
   "metadata": {
    "id": "BU-7p6a6tYSI"
   },
   "source": [
    "#### Raw"
   ]
  },
  {
   "cell_type": "code",
   "execution_count": null,
   "metadata": {
    "colab": {
     "base_uri": "https://localhost:8080/"
    },
    "executionInfo": {
     "elapsed": 11154,
     "status": "ok",
     "timestamp": 1669555292617,
     "user": {
      "displayName": "Hanwen Li",
      "userId": "17980221068096728332"
     },
     "user_tz": -480
    },
    "id": "bLPks2lOtmqg",
    "outputId": "a1564b6c-0643-47f7-9e55-3acf57363e43"
   },
   "outputs": [
    {
     "name": "stdout",
     "output_type": "stream",
     "text": [
      "Train: (16760, 7488)\n",
      "Valid: (2394, 7488)\n"
     ]
    }
   ],
   "source": [
    "train = pd.read_pickle('./data/X_train.pkl')\n",
    "valid = pd.read_pickle('./data/X_valid.pkl')\n",
    "test = pd.read_pickle('./data/X_test.pkl')\n",
    "print(f\"Train: {train.shape}\\nValid: {valid.shape}\")"
   ]
  },
  {
   "cell_type": "markdown",
   "metadata": {
    "id": "Uyau2YLn-rZ9"
   },
   "source": [
    "#### Finalized"
   ]
  },
  {
   "cell_type": "code",
   "execution_count": null,
   "metadata": {
    "id": "949Sg6Z7-vOs"
   },
   "outputs": [],
   "source": [
    "feature_num = train.shape[1]\n",
    "mi_importance = np.load(f\"./data/MI_importance_{feature_num}.npy\")"
   ]
  },
  {
   "cell_type": "code",
   "execution_count": null,
   "metadata": {
    "id": "HH6nwQzI-vUF"
   },
   "outputs": [],
   "source": [
    "num = 600\n",
    "mi_importance_index = np.argpartition(mi_importance, -num)[-num:]"
   ]
  },
  {
   "cell_type": "markdown",
   "metadata": {
    "id": "ctrtihBKvU-4"
   },
   "source": [
    "### Prepare Y"
   ]
  },
  {
   "cell_type": "code",
   "execution_count": null,
   "metadata": {
    "colab": {
     "base_uri": "https://localhost:8080/"
    },
    "executionInfo": {
     "elapsed": 2,
     "status": "ok",
     "timestamp": 1669555294069,
     "user": {
      "displayName": "Hanwen Li",
      "userId": "17980221068096728332"
     },
     "user_tz": -480
    },
    "id": "q7jlN_scvXZo",
    "outputId": "98610166-cf1c-4f93-933f-5997b907c55a"
   },
   "outputs": [
    {
     "name": "stdout",
     "output_type": "stream",
     "text": [
      "Train (label = 0): 15535\n",
      "Train (label = 1):  1225\n",
      "Valid (label = 0):  2242\n",
      "Valid (label = 1):   152\n",
      "{0: 0.5394271000965563, 1: 6.840816326530613}\n"
     ]
    }
   ],
   "source": [
    "train_y = pd.read_pickle('./data/Y_train_1.pkl')\n",
    "valid_y = pd.read_pickle('./data/Y_valid_1.pkl')\n",
    "\n",
    "train_lbl0 = (train_y.to_numpy() == 0).sum()\n",
    "train_lbl1 = (train_y.to_numpy() == 1).sum()\n",
    "valid_lbl0 = (valid_y.to_numpy() == 0).sum()\n",
    "valid_lbl1 = (valid_y.to_numpy() == 1).sum()\n",
    "\n",
    "print(f\"Train (label = 0): {train_lbl0:>5d}\\nTrain (label = 1): {train_lbl1:>5d}\")\n",
    "print(f\"Valid (label = 0): {valid_lbl0:>5d}\\nValid (label = 1): {valid_lbl1:>5d}\")\n",
    "\n",
    "weight_for_0 = (1 / train_lbl0) * (train_lbl0 + train_lbl1) / 2.0 \n",
    "weight_for_1 = (1 / train_lbl1) * (train_lbl0 + train_lbl1) / 2.0\n",
    "class_weight = {0: weight_for_0, 1: weight_for_1}\n",
    "print(class_weight)"
   ]
  },
  {
   "cell_type": "markdown",
   "metadata": {
    "id": "A3wXjomx0m6L"
   },
   "source": [
    "### Deal with Imbalanced Dataset: SMOTE\n"
   ]
  },
  {
   "cell_type": "markdown",
   "metadata": {
    "id": "WP0QBUJta9q1"
   },
   "source": [
    "#### Oversampling"
   ]
  },
  {
   "cell_type": "code",
   "execution_count": null,
   "metadata": {
    "id": "NGWqcQyVa6FK"
   },
   "outputs": [],
   "source": [
    "from imblearn.over_sampling import SMOTE, ADASYN"
   ]
  },
  {
   "cell_type": "code",
   "execution_count": null,
   "metadata": {
    "id": "Y_lSpShDbDo7"
   },
   "outputs": [],
   "source": [
    "smote = False\n",
    "if smote:\n",
    "    train_resampled, train_y_resampled = SMOTE(random_state=seed).fit_resample(train, train_y)\n",
    "    print(train_resampled.shape)\n",
    "    train, train_y = train_resampled, train_y_resampled"
   ]
  },
  {
   "cell_type": "code",
   "execution_count": null,
   "metadata": {
    "id": "MmHxmE15ak3h"
   },
   "outputs": [],
   "source": []
  },
  {
   "cell_type": "markdown",
   "metadata": {
    "id": "hHzMb0GQ0cjT"
   },
   "source": [
    "### Normalization"
   ]
  },
  {
   "cell_type": "code",
   "execution_count": null,
   "metadata": {
    "id": "LnrZYfwM0f2e"
   },
   "outputs": [],
   "source": [
    "minmax = False\n",
    "if minmax:\n",
    "    train, valid, test = minmax(train, valid, test)\n",
    "else:\n",
    "    train, valid, test = std(train, valid, test)"
   ]
  },
  {
   "cell_type": "code",
   "execution_count": null,
   "metadata": {
    "id": "HhN208ec0f-j"
   },
   "outputs": [],
   "source": []
  },
  {
   "cell_type": "markdown",
   "metadata": {
    "id": "V5B0fvIJt0eT"
   },
   "source": [
    "## PCA"
   ]
  },
  {
   "cell_type": "code",
   "execution_count": null,
   "metadata": {
    "id": "2nU6mtqdrXkT"
   },
   "outputs": [],
   "source": [
    "from sklearn.decomposition import PCA"
   ]
  },
  {
   "cell_type": "code",
   "execution_count": null,
   "metadata": {
    "id": "iobs1I0ot4Ib"
   },
   "outputs": [],
   "source": [
    "def pca_result(df, n=1):\n",
    "    pca = PCA(n_components=n, random_state=seed)\n",
    "    df_nd = pca.fit_transform(df)\n",
    "    df_recon = pca.inverse_transform(df_nd).round(0)\n",
    "    df_recon[df_recon<=0] = 0\n",
    "    df_recon_err = np.mean(np.sum(np.square(df_recon - df), axis=1))\n",
    "    cols = [(\"Component\" + str(i+1)) for i in range(pca.components_.shape[0])]\n",
    "    components = pd.DataFrame(pca.components_.T, columns=cols, index=df.columns)\n",
    "    explained_var = pca.explained_variance_ratio_.sum()\n",
    "    result = {\n",
    "        \"pca\": pca,\n",
    "        \"pca_components\": components,\n",
    "        \"explained_variance\": explained_var,\n",
    "        \"data_dimension_reduction\": df_nd,\n",
    "        \"data_reconstruction\": df_recon,\n",
    "        \"data_reconstruction_error\": df_recon_err,\n",
    "    }\n",
    "    return result"
   ]
  },
  {
   "cell_type": "code",
   "execution_count": null,
   "metadata": {
    "id": "QIkCLqTAt4Qf"
   },
   "outputs": [],
   "source": [
    "# train, valid, test = std(train, valid, test)\n",
    "# train = pd.DataFrame(train)\n",
    "# valid = pd.DataFrame(valid)\n",
    "# test  = pd.DataFrame(test)\n",
    "\n",
    "# for i in range(50, 150+1, 10):\n",
    "#     pca = pca_result(train, i)\n",
    "#     print(i, pca[\"explained_variance\"])"
   ]
  },
  {
   "cell_type": "code",
   "execution_count": null,
   "metadata": {
    "colab": {
     "base_uri": "https://localhost:8080/"
    },
    "executionInfo": {
     "elapsed": 80571,
     "status": "ok",
     "timestamp": 1669537824123,
     "user": {
      "displayName": "Hanwen Li",
      "userId": "17980221068096728332"
     },
     "user_tz": -480
    },
    "id": "qbeGIK0GMJvy",
    "outputId": "3bee703e-9827-4833-efa3-8dfaf25dd034"
   },
   "outputs": [
    {
     "name": "stdout",
     "output_type": "stream",
     "text": [
      "0.804116650722556\n"
     ]
    }
   ],
   "source": [
    "train, valid, test = std(train, valid, test)\n",
    "train = pd.DataFrame(train)\n",
    "valid = pd.DataFrame(valid)\n",
    "test  = pd.DataFrame(test)\n",
    "\n",
    "pca = pca_result(train, 350)\n",
    "print(pca[\"explained_variance\"])"
   ]
  },
  {
   "cell_type": "code",
   "execution_count": null,
   "metadata": {
    "id": "4j8EEvbNt4Z3"
   },
   "outputs": [],
   "source": [
    "pca_num = 350\n",
    "pca_train = pca_result(train, pca_num)[\"data_dimension_reduction\"]\n",
    "pca_valid = pca_result(valid, pca_num)[\"data_dimension_reduction\"]\n",
    "pca_test  = pca_result(test,  pca_num)[\"data_dimension_reduction\"]"
   ]
  },
  {
   "cell_type": "code",
   "execution_count": null,
   "metadata": {
    "id": "PpLGxUbMl_v5"
   },
   "outputs": [],
   "source": [
    "# train = pca_train\n",
    "# valid = pca_valid\n",
    "# test  = pca_test"
   ]
  },
  {
   "cell_type": "markdown",
   "metadata": {
    "id": "RNM2W7vveN9Z"
   },
   "source": [
    "## SVD"
   ]
  },
  {
   "cell_type": "code",
   "execution_count": null,
   "metadata": {
    "id": "SfZ2NA_6eRlA"
   },
   "outputs": [],
   "source": [
    "from sklearn.decomposition import TruncatedSVD "
   ]
  },
  {
   "cell_type": "code",
   "execution_count": null,
   "metadata": {
    "id": "dckIcq7yejDY"
   },
   "outputs": [],
   "source": [
    "# for i in range(1, 11):\n",
    "#     svd = TruncatedSVD(n_components=i, random_state=seed)\n",
    "#     svd.fit_transform(train)\n",
    "#     print(svd.explained_variance_ratio_)"
   ]
  },
  {
   "cell_type": "code",
   "execution_count": null,
   "metadata": {
    "colab": {
     "base_uri": "https://localhost:8080/"
    },
    "executionInfo": {
     "elapsed": 55067,
     "status": "ok",
     "timestamp": 1669538292470,
     "user": {
      "displayName": "Hanwen Li",
      "userId": "17980221068096728332"
     },
     "user_tz": -480
    },
    "id": "tLRxgpZ9ONFD",
    "outputId": "3a24e398-a250-4f5d-bd51-8f38dc4e98e9"
   },
   "outputs": [
    {
     "name": "stdout",
     "output_type": "stream",
     "text": [
      "0.8036748894428122\n"
     ]
    }
   ],
   "source": [
    "svd = TruncatedSVD(n_components=350, random_state=seed)\n",
    "svd.fit_transform(train)\n",
    "print(sum(svd.explained_variance_ratio_))"
   ]
  },
  {
   "cell_type": "code",
   "execution_count": null,
   "metadata": {
    "id": "fEkCL4RYe_lG"
   },
   "outputs": [],
   "source": [
    "svd_num = 350\n",
    "svd = TruncatedSVD(n_components=svd_num, random_state=seed)\n",
    "svd_train = svd.fit_transform(train)\n",
    "svd_valid = svd.transform(valid)\n",
    "svd_test = svd.transform(test)"
   ]
  },
  {
   "cell_type": "code",
   "execution_count": null,
   "metadata": {
    "id": "p0Dqw3n0s-g8"
   },
   "outputs": [],
   "source": [
    "# train = svd_train\n",
    "# valid = svd_valid\n",
    "# test  = svd_test"
   ]
  },
  {
   "cell_type": "markdown",
   "metadata": {
    "id": "xYvYIzYL0PGM"
   },
   "source": [
    "## KPCA"
   ]
  },
  {
   "cell_type": "code",
   "execution_count": null,
   "metadata": {
    "id": "sCeJsefvtCqp"
   },
   "outputs": [],
   "source": [
    "from sklearn.decomposition import KernelPCA"
   ]
  },
  {
   "cell_type": "code",
   "execution_count": null,
   "metadata": {
    "id": "sdGqzm8o08s-"
   },
   "outputs": [],
   "source": [
    "kpca_num = 100\n",
    "kpca = KernelPCA(n_components=kpca_num, kernel='rbf', gamma=15)\n",
    "\n",
    "kpca_train = kpca.fit_transform(train)\n",
    "kpca_valid = kpca.transform(valid)\n",
    "kpca_test = kpca.transform(test)"
   ]
  },
  {
   "cell_type": "markdown",
   "metadata": {
    "id": "lAZr3QAJoDyk"
   },
   "source": [
    "## Autoencoder"
   ]
  },
  {
   "cell_type": "code",
   "execution_count": null,
   "metadata": {
    "id": "cUg6-R0UoG1I"
   },
   "outputs": [],
   "source": [
    "hidden = 64\n",
    "ae_train = np.load(f\"./data/X_train_AE_{hidden}.npy\")\n",
    "ae_valid = np.load(f\"./data/X_valid_AE_{hidden}.npy\")\n",
    "ae_test = np.load(f\"./data/X_test_AE_{hidden}.npy\")"
   ]
  },
  {
   "cell_type": "code",
   "execution_count": null,
   "metadata": {
    "id": "cxlPSxQ-ocsv"
   },
   "outputs": [],
   "source": []
  },
  {
   "cell_type": "markdown",
   "metadata": {
    "id": "0NbXzm3p2dpH"
   },
   "source": [
    "## K-Means Clustering"
   ]
  },
  {
   "cell_type": "code",
   "execution_count": null,
   "metadata": {
    "id": "ICl76Yxp2iCo"
   },
   "outputs": [],
   "source": [
    "from sklearn.cluster import KMeans"
   ]
  },
  {
   "cell_type": "code",
   "execution_count": null,
   "metadata": {
    "colab": {
     "base_uri": "https://localhost:8080/"
    },
    "executionInfo": {
     "elapsed": 318688,
     "status": "ok",
     "timestamp": 1668232626604,
     "user": {
      "displayName": "Hanwen Li",
      "userId": "17980221068096728332"
     },
     "user_tz": -480
    },
    "id": "o5LTcpqD2iMF",
    "outputId": "e547a2cc-bd1e-46e4-ff1e-2f020336b4ad"
   },
   "outputs": [
    {
     "name": "stdout",
     "output_type": "stream",
     "text": [
      "K = 101\n",
      "Valid AUROC: 0.5128; FP:   31; FN:  146\n",
      "Valid (label = 1): 37\n",
      "Test (label = 1): 10\n",
      "\n",
      "K = 151\n",
      "Valid AUROC: 0.4894; FP:   92; FN:  149\n",
      "Valid (label = 1): 95\n",
      "Test (label = 1): 42\n",
      "\n",
      "K = 201\n",
      "Valid AUROC: 0.4982; FP:   82; FN:  147\n",
      "Valid (label = 1): 87\n",
      "Test (label = 1): 36\n",
      "\n",
      "K = 251\n",
      "Valid AUROC: 0.5002; FP:   73; FN:  147\n",
      "Valid (label = 1): 78\n",
      "Test (label = 1): 27\n",
      "\n",
      "K = 301\n",
      "Valid AUROC: 0.4897; FP:  105; FN:  148\n",
      "Valid (label = 1): 109\n",
      "Test (label = 1): 37\n",
      "\n",
      "K = 351\n",
      "Valid AUROC: 0.4919; FP:  110; FN:  147\n",
      "Valid (label = 1): 115\n",
      "Test (label = 1): 64\n",
      "\n",
      "K = 401\n",
      "Valid AUROC: 0.4984; FP:  140; FN:  143\n",
      "Valid (label = 1): 149\n",
      "Test (label = 1): 34\n",
      "\n",
      "K = 451\n",
      "Valid AUROC: 0.4982; FP:  141; FN:  143\n",
      "Valid (label = 1): 150\n",
      "Test (label = 1): 42\n",
      "\n",
      "K = 501\n",
      "Valid AUROC: 0.4913; FP:  157; FN:  144\n",
      "Valid (label = 1): 165\n",
      "Test (label = 1): 43\n",
      "\n"
     ]
    }
   ],
   "source": [
    "for i in range(101, 501+1, 50):\n",
    "    print(f\"K = {i}\")\n",
    "    cls = KMeans(n_clusters=i, init='k-means++', n_init=10, max_iter=300, tol=0.0001, verbose=0, random_state=seed, copy_x=True)\n",
    "    cls.fit(train)\n",
    "    train_cluster = cls.predict(train)\n",
    "    labels = []\n",
    "    for count in range(i):\n",
    "        index = np.where(train_cluster == count)[0].tolist() # get the index of the ith cluster\n",
    "        sub = train_y.iloc[index,]                           # fetch sub-samples from the training sample\n",
    "        if (sub.to_numpy() == 0).sum() < (sub.shape[0] // 2 + 1):\n",
    "            labels.append(1)\n",
    "        else:\n",
    "            labels.append(0)\n",
    "    valid_cluster = cls.predict(valid)\n",
    "    valid_pred = valid_y.iloc[valid_cluster,]\n",
    "    cm = confusion_matrix(valid_y, valid_pred)\n",
    "    tn, fp, fn, tp = cm.ravel()\n",
    "    print(f\"Valid AUROC: {roc_auc_score(valid_y, valid_pred):.4f}; FP: {fp:>4d}; FN: {fn:>4d}\")\n",
    "    print(f\"Valid (label = 1): {(valid_pred.to_numpy() == 1).sum()}\")\n",
    "    test_cluster = cls.predict(test)\n",
    "    pred = []\n",
    "    for i in test_cluster.tolist():\n",
    "        pred.append(labels[i])\n",
    "    print(f\"Test  (label = 1): {sum(pred)}\")\n",
    "    print()"
   ]
  },
  {
   "cell_type": "code",
   "execution_count": null,
   "metadata": {
    "colab": {
     "base_uri": "https://localhost:8080/"
    },
    "executionInfo": {
     "elapsed": 10,
     "status": "ok",
     "timestamp": 1668174698067,
     "user": {
      "displayName": "Hanwen Li",
      "userId": "17980221068096728332"
     },
     "user_tz": -480
    },
    "id": "FJqR_bc_2iVS",
    "outputId": "1d04a538-a952-4673-e7de-2f6ca07f477d"
   },
   "outputs": [
    {
     "data": {
      "text/plain": [
       "array([91, 93, 79, ..., 18, 86, 82], dtype=int32)"
      ]
     },
     "execution_count": 129,
     "metadata": {},
     "output_type": "execute_result"
    }
   ],
   "source": [
    "valid_cluster = cls.predict(valid)\n",
    "valid_cluster"
   ]
  },
  {
   "cell_type": "code",
   "execution_count": null,
   "metadata": {
    "colab": {
     "base_uri": "https://localhost:8080/"
    },
    "executionInfo": {
     "elapsed": 2,
     "status": "ok",
     "timestamp": 1668174845300,
     "user": {
      "displayName": "Hanwen Li",
      "userId": "17980221068096728332"
     },
     "user_tz": -480
    },
    "id": "LNJnPjeF82rW",
    "outputId": "c8cd7fe1-678e-4866-8cbf-28f2d09fa80a"
   },
   "outputs": [
    {
     "data": {
      "text/plain": [
       "114"
      ]
     },
     "execution_count": 134,
     "metadata": {},
     "output_type": "execute_result"
    }
   ],
   "source": [
    "tmp = valid_y.iloc[valid_cluster,]\n",
    "(tmp.to_numpy() == 1).sum()"
   ]
  },
  {
   "cell_type": "code",
   "execution_count": null,
   "metadata": {
    "colab": {
     "base_uri": "https://localhost:8080/"
    },
    "executionInfo": {
     "elapsed": 685,
     "status": "ok",
     "timestamp": 1668174862509,
     "user": {
      "displayName": "Hanwen Li",
      "userId": "17980221068096728332"
     },
     "user_tz": -480
    },
    "id": "hcsp5wgG9QQq",
    "outputId": "850fbf74-3303-44f0-d357-caf44ab00ec9"
   },
   "outputs": [
    {
     "data": {
      "text/plain": [
       "array([99, 86, 28, ..., 83,  8, 53], dtype=int32)"
      ]
     },
     "execution_count": 135,
     "metadata": {},
     "output_type": "execute_result"
    }
   ],
   "source": [
    "test_cluster = cls.predict(test)\n",
    "test_cluster"
   ]
  },
  {
   "cell_type": "code",
   "execution_count": null,
   "metadata": {
    "colab": {
     "base_uri": "https://localhost:8080/"
    },
    "executionInfo": {
     "elapsed": 3,
     "status": "ok",
     "timestamp": 1668175029392,
     "user": {
      "displayName": "Hanwen Li",
      "userId": "17980221068096728332"
     },
     "user_tz": -480
    },
    "id": "iCtds-wj-osu",
    "outputId": "978d2f57-99a8-4d36-9260-3cb32e3dc256"
   },
   "outputs": [
    {
     "data": {
      "text/plain": [
       "32"
      ]
     },
     "execution_count": 140,
     "metadata": {},
     "output_type": "execute_result"
    }
   ],
   "source": [
    "sum(pred)"
   ]
  },
  {
   "cell_type": "code",
   "execution_count": null,
   "metadata": {
    "colab": {
     "base_uri": "https://localhost:8080/"
    },
    "collapsed": true,
    "executionInfo": {
     "elapsed": 4,
     "status": "ok",
     "timestamp": 1668174988192,
     "user": {
      "displayName": "Hanwen Li",
      "userId": "17980221068096728332"
     },
     "user_tz": -480
    },
    "id": "2DJ41oaP-Mmt",
    "outputId": "af016d29-aa8d-4fab-a350-9a71d4ae24bd"
   },
   "outputs": [
    {
     "data": {
      "text/plain": [
       "[0,\n",
       " 0,\n",
       " 0,\n",
       " 0,\n",
       " 0,\n",
       " 0,\n",
       " 0,\n",
       " 0,\n",
       " 0,\n",
       " 0,\n",
       " 0,\n",
       " 0,\n",
       " 0,\n",
       " 1,\n",
       " 0,\n",
       " 0,\n",
       " 0,\n",
       " 0,\n",
       " 0,\n",
       " 0,\n",
       " 0,\n",
       " 0,\n",
       " 0,\n",
       " 0,\n",
       " 0,\n",
       " 0,\n",
       " 0,\n",
       " 0,\n",
       " 0,\n",
       " 0,\n",
       " 0,\n",
       " 0,\n",
       " 0,\n",
       " 0,\n",
       " 0,\n",
       " 0,\n",
       " 0,\n",
       " 0,\n",
       " 0,\n",
       " 0,\n",
       " 0,\n",
       " 0,\n",
       " 0,\n",
       " 0,\n",
       " 0,\n",
       " 0,\n",
       " 0,\n",
       " 0,\n",
       " 0,\n",
       " 0,\n",
       " 0,\n",
       " 0,\n",
       " 0,\n",
       " 0,\n",
       " 0,\n",
       " 0,\n",
       " 0,\n",
       " 0,\n",
       " 0,\n",
       " 0,\n",
       " 0,\n",
       " 0,\n",
       " 0,\n",
       " 0,\n",
       " 0,\n",
       " 0,\n",
       " 0,\n",
       " 0,\n",
       " 0,\n",
       " 0,\n",
       " 0,\n",
       " 0,\n",
       " 0,\n",
       " 0,\n",
       " 0,\n",
       " 0,\n",
       " 0,\n",
       " 0,\n",
       " 0,\n",
       " 0,\n",
       " 0,\n",
       " 0,\n",
       " 0,\n",
       " 0,\n",
       " 0,\n",
       " 0,\n",
       " 0,\n",
       " 0,\n",
       " 0,\n",
       " 0,\n",
       " 0,\n",
       " 0,\n",
       " 0,\n",
       " 0,\n",
       " 0,\n",
       " 0,\n",
       " 0,\n",
       " 0,\n",
       " 0,\n",
       " 0,\n",
       " 0,\n",
       " 0,\n",
       " 0,\n",
       " 0,\n",
       " 0,\n",
       " 0,\n",
       " 0,\n",
       " 0,\n",
       " 0,\n",
       " 0,\n",
       " 0,\n",
       " 0,\n",
       " 0,\n",
       " 0,\n",
       " 0,\n",
       " 0,\n",
       " 0,\n",
       " 0,\n",
       " 0,\n",
       " 0,\n",
       " 0,\n",
       " 0,\n",
       " 0,\n",
       " 0,\n",
       " 0,\n",
       " 0,\n",
       " 0,\n",
       " 0,\n",
       " 0,\n",
       " 0,\n",
       " 0,\n",
       " 0,\n",
       " 0,\n",
       " 0,\n",
       " 0,\n",
       " 0,\n",
       " 0,\n",
       " 0,\n",
       " 0,\n",
       " 0,\n",
       " 0,\n",
       " 0,\n",
       " 0,\n",
       " 0,\n",
       " 0,\n",
       " 0,\n",
       " 0,\n",
       " 0,\n",
       " 0,\n",
       " 0,\n",
       " 0,\n",
       " 0,\n",
       " 0,\n",
       " 0,\n",
       " 0,\n",
       " 0,\n",
       " 0,\n",
       " 0,\n",
       " 0,\n",
       " 0,\n",
       " 0,\n",
       " 0,\n",
       " 0,\n",
       " 0,\n",
       " 0,\n",
       " 0,\n",
       " 0,\n",
       " 0,\n",
       " 0,\n",
       " 0,\n",
       " 0,\n",
       " 0,\n",
       " 0,\n",
       " 0,\n",
       " 0,\n",
       " 1,\n",
       " 0,\n",
       " 0,\n",
       " 0,\n",
       " 0,\n",
       " 0,\n",
       " 0,\n",
       " 0,\n",
       " 0,\n",
       " 0,\n",
       " 0,\n",
       " 0,\n",
       " 0,\n",
       " 0,\n",
       " 0,\n",
       " 0,\n",
       " 0,\n",
       " 0,\n",
       " 0,\n",
       " 0,\n",
       " 0,\n",
       " 0,\n",
       " 0,\n",
       " 0,\n",
       " 0,\n",
       " 0,\n",
       " 0,\n",
       " 0,\n",
       " 0,\n",
       " 0,\n",
       " 0,\n",
       " 0,\n",
       " 0,\n",
       " 0,\n",
       " 0,\n",
       " 0,\n",
       " 0,\n",
       " 0,\n",
       " 0,\n",
       " 0,\n",
       " 0,\n",
       " 0,\n",
       " 0,\n",
       " 0,\n",
       " 0,\n",
       " 0,\n",
       " 0,\n",
       " 0,\n",
       " 0,\n",
       " 0,\n",
       " 0,\n",
       " 0,\n",
       " 0,\n",
       " 0,\n",
       " 0,\n",
       " 1,\n",
       " 0,\n",
       " 0,\n",
       " 0,\n",
       " 0,\n",
       " 0,\n",
       " 0,\n",
       " 0,\n",
       " 0,\n",
       " 0,\n",
       " 0,\n",
       " 0,\n",
       " 0,\n",
       " 0,\n",
       " 0,\n",
       " 0,\n",
       " 0,\n",
       " 0,\n",
       " 0,\n",
       " 0,\n",
       " 0,\n",
       " 0,\n",
       " 0,\n",
       " 0,\n",
       " 0,\n",
       " 0,\n",
       " 0,\n",
       " 0,\n",
       " 0,\n",
       " 0,\n",
       " 0,\n",
       " 0,\n",
       " 0,\n",
       " 0,\n",
       " 0,\n",
       " 0,\n",
       " 0,\n",
       " 0,\n",
       " 0,\n",
       " 0,\n",
       " 0,\n",
       " 0,\n",
       " 0,\n",
       " 0,\n",
       " 0,\n",
       " 0,\n",
       " 0,\n",
       " 0,\n",
       " 0,\n",
       " 0,\n",
       " 0,\n",
       " 0,\n",
       " 0,\n",
       " 0,\n",
       " 0,\n",
       " 0,\n",
       " 0,\n",
       " 0,\n",
       " 0,\n",
       " 0,\n",
       " 0,\n",
       " 0,\n",
       " 0,\n",
       " 0,\n",
       " 0,\n",
       " 0,\n",
       " 0,\n",
       " 0,\n",
       " 0,\n",
       " 1,\n",
       " 0,\n",
       " 0,\n",
       " 0,\n",
       " 0,\n",
       " 0,\n",
       " 0,\n",
       " 0,\n",
       " 0,\n",
       " 0,\n",
       " 0,\n",
       " 0,\n",
       " 0,\n",
       " 0,\n",
       " 0,\n",
       " 0,\n",
       " 0,\n",
       " 0,\n",
       " 0,\n",
       " 0,\n",
       " 0,\n",
       " 0,\n",
       " 0,\n",
       " 0,\n",
       " 0,\n",
       " 0,\n",
       " 0,\n",
       " 0,\n",
       " 0,\n",
       " 0,\n",
       " 0,\n",
       " 0,\n",
       " 0,\n",
       " 0,\n",
       " 0,\n",
       " 0,\n",
       " 0,\n",
       " 0,\n",
       " 0,\n",
       " 0,\n",
       " 0,\n",
       " 0,\n",
       " 0,\n",
       " 0,\n",
       " 0,\n",
       " 0,\n",
       " 0,\n",
       " 0,\n",
       " 0,\n",
       " 0,\n",
       " 0,\n",
       " 0,\n",
       " 0,\n",
       " 0,\n",
       " 0,\n",
       " 0,\n",
       " 0,\n",
       " 0,\n",
       " 0,\n",
       " 0,\n",
       " 0,\n",
       " 0,\n",
       " 0,\n",
       " 0,\n",
       " 0,\n",
       " 0,\n",
       " 0,\n",
       " 0,\n",
       " 0,\n",
       " 0,\n",
       " 0,\n",
       " 0,\n",
       " 0,\n",
       " 0,\n",
       " 0,\n",
       " 0,\n",
       " 0,\n",
       " 0,\n",
       " 0,\n",
       " 0,\n",
       " 0,\n",
       " 0,\n",
       " 0,\n",
       " 0,\n",
       " 0,\n",
       " 0,\n",
       " 0,\n",
       " 0,\n",
       " 0,\n",
       " 0,\n",
       " 0,\n",
       " 0,\n",
       " 0,\n",
       " 0,\n",
       " 0,\n",
       " 0,\n",
       " 0,\n",
       " 0,\n",
       " 0,\n",
       " 0,\n",
       " 0,\n",
       " 0,\n",
       " 0,\n",
       " 0,\n",
       " 0,\n",
       " 0,\n",
       " 0,\n",
       " 0,\n",
       " 0,\n",
       " 0,\n",
       " 0,\n",
       " 0,\n",
       " 0,\n",
       " 0,\n",
       " 0,\n",
       " 0,\n",
       " 0,\n",
       " 0,\n",
       " 0,\n",
       " 0,\n",
       " 0,\n",
       " 0,\n",
       " 0,\n",
       " 1,\n",
       " 0,\n",
       " 0,\n",
       " 0,\n",
       " 0,\n",
       " 0,\n",
       " 0,\n",
       " 0,\n",
       " 0,\n",
       " 0,\n",
       " 0,\n",
       " 0,\n",
       " 0,\n",
       " 0,\n",
       " 0,\n",
       " 0,\n",
       " 0,\n",
       " 0,\n",
       " 0,\n",
       " 0,\n",
       " 0,\n",
       " 0,\n",
       " 0,\n",
       " 0,\n",
       " 0,\n",
       " 0,\n",
       " 0,\n",
       " 0,\n",
       " 0,\n",
       " 0,\n",
       " 0,\n",
       " 0,\n",
       " 0,\n",
       " 0,\n",
       " 0,\n",
       " 0,\n",
       " 0,\n",
       " 0,\n",
       " 0,\n",
       " 0,\n",
       " 0,\n",
       " 0,\n",
       " 0,\n",
       " 0,\n",
       " 0,\n",
       " 0,\n",
       " 0,\n",
       " 0,\n",
       " 0,\n",
       " 0,\n",
       " 0,\n",
       " 0,\n",
       " 0,\n",
       " 0,\n",
       " 0,\n",
       " 0,\n",
       " 0,\n",
       " 0,\n",
       " 0,\n",
       " 0,\n",
       " 0,\n",
       " 0,\n",
       " 0,\n",
       " 0,\n",
       " 0,\n",
       " 0,\n",
       " 0,\n",
       " 0,\n",
       " 0,\n",
       " 0,\n",
       " 0,\n",
       " 0,\n",
       " 0,\n",
       " 0,\n",
       " 0,\n",
       " 0,\n",
       " 0,\n",
       " 0,\n",
       " 0,\n",
       " 0,\n",
       " 0,\n",
       " 0,\n",
       " 0,\n",
       " 0,\n",
       " 0,\n",
       " 0,\n",
       " 0,\n",
       " 0,\n",
       " 0,\n",
       " 0,\n",
       " 0,\n",
       " 0,\n",
       " 0,\n",
       " 0,\n",
       " 0,\n",
       " 0,\n",
       " 0,\n",
       " 0,\n",
       " 0,\n",
       " 0,\n",
       " 0,\n",
       " 0,\n",
       " 0,\n",
       " 0,\n",
       " 0,\n",
       " 0,\n",
       " 0,\n",
       " 0,\n",
       " 0,\n",
       " 0,\n",
       " 0,\n",
       " 0,\n",
       " 0,\n",
       " 0,\n",
       " 0,\n",
       " 0,\n",
       " 0,\n",
       " 0,\n",
       " 0,\n",
       " 0,\n",
       " 1,\n",
       " 0,\n",
       " 0,\n",
       " 0,\n",
       " 0,\n",
       " 0,\n",
       " 0,\n",
       " 0,\n",
       " 0,\n",
       " 0,\n",
       " 0,\n",
       " 0,\n",
       " 0,\n",
       " 0,\n",
       " 0,\n",
       " 0,\n",
       " 0,\n",
       " 0,\n",
       " 0,\n",
       " 0,\n",
       " 0,\n",
       " 0,\n",
       " 0,\n",
       " 0,\n",
       " 0,\n",
       " 0,\n",
       " 0,\n",
       " 0,\n",
       " 0,\n",
       " 0,\n",
       " 0,\n",
       " 0,\n",
       " 0,\n",
       " 0,\n",
       " 0,\n",
       " 0,\n",
       " 0,\n",
       " 0,\n",
       " 0,\n",
       " 0,\n",
       " 0,\n",
       " 0,\n",
       " 0,\n",
       " 0,\n",
       " 0,\n",
       " 0,\n",
       " 0,\n",
       " 0,\n",
       " 0,\n",
       " 0,\n",
       " 0,\n",
       " 0,\n",
       " 0,\n",
       " 0,\n",
       " 0,\n",
       " 0,\n",
       " 0,\n",
       " 0,\n",
       " 0,\n",
       " 0,\n",
       " 0,\n",
       " 0,\n",
       " 0,\n",
       " 0,\n",
       " 0,\n",
       " 0,\n",
       " 0,\n",
       " 0,\n",
       " 0,\n",
       " 0,\n",
       " 0,\n",
       " 0,\n",
       " 0,\n",
       " 0,\n",
       " 0,\n",
       " 0,\n",
       " 1,\n",
       " 0,\n",
       " 0,\n",
       " 0,\n",
       " 0,\n",
       " 0,\n",
       " 0,\n",
       " 0,\n",
       " 0,\n",
       " 0,\n",
       " 0,\n",
       " 0,\n",
       " 0,\n",
       " 0,\n",
       " 0,\n",
       " 0,\n",
       " 0,\n",
       " 0,\n",
       " 0,\n",
       " 0,\n",
       " 0,\n",
       " 0,\n",
       " 0,\n",
       " 0,\n",
       " 0,\n",
       " 0,\n",
       " 0,\n",
       " 0,\n",
       " 0,\n",
       " 0,\n",
       " 0,\n",
       " 0,\n",
       " 0,\n",
       " 0,\n",
       " 0,\n",
       " 0,\n",
       " 0,\n",
       " 0,\n",
       " 0,\n",
       " 0,\n",
       " 0,\n",
       " 0,\n",
       " 0,\n",
       " 0,\n",
       " 0,\n",
       " 0,\n",
       " 0,\n",
       " 0,\n",
       " 0,\n",
       " 0,\n",
       " 0,\n",
       " 0,\n",
       " 0,\n",
       " 0,\n",
       " 0,\n",
       " 0,\n",
       " 0,\n",
       " 0,\n",
       " 0,\n",
       " 0,\n",
       " 0,\n",
       " 0,\n",
       " 0,\n",
       " 0,\n",
       " 0,\n",
       " 0,\n",
       " 0,\n",
       " 0,\n",
       " 0,\n",
       " 0,\n",
       " 0,\n",
       " 0,\n",
       " 0,\n",
       " 0,\n",
       " 0,\n",
       " 0,\n",
       " 0,\n",
       " 0,\n",
       " 0,\n",
       " 0,\n",
       " 0,\n",
       " 0,\n",
       " 0,\n",
       " 0,\n",
       " 0,\n",
       " 0,\n",
       " 0,\n",
       " 0,\n",
       " 0,\n",
       " 0,\n",
       " 0,\n",
       " 0,\n",
       " 0,\n",
       " 0,\n",
       " 0,\n",
       " 0,\n",
       " 0,\n",
       " 0,\n",
       " 0,\n",
       " 0,\n",
       " 0,\n",
       " 0,\n",
       " 0,\n",
       " 0,\n",
       " 0,\n",
       " 0,\n",
       " 0,\n",
       " 0,\n",
       " 0,\n",
       " 0,\n",
       " 0,\n",
       " 0,\n",
       " 0,\n",
       " 0,\n",
       " 0,\n",
       " 0,\n",
       " 0,\n",
       " 0,\n",
       " 0,\n",
       " 0,\n",
       " 0,\n",
       " 0,\n",
       " 0,\n",
       " 0,\n",
       " 0,\n",
       " 0,\n",
       " 0,\n",
       " 0,\n",
       " 0,\n",
       " 0,\n",
       " 0,\n",
       " 0,\n",
       " 0,\n",
       " 0,\n",
       " 0,\n",
       " 0,\n",
       " 0,\n",
       " 0,\n",
       " 0,\n",
       " 0,\n",
       " 0,\n",
       " 0,\n",
       " 0,\n",
       " 0,\n",
       " 0,\n",
       " 0,\n",
       " 0,\n",
       " 0,\n",
       " 0,\n",
       " 0,\n",
       " 0,\n",
       " 0,\n",
       " 0,\n",
       " 0,\n",
       " 0,\n",
       " 0,\n",
       " 0,\n",
       " 0,\n",
       " 0,\n",
       " 0,\n",
       " 0,\n",
       " 0,\n",
       " 0,\n",
       " 0,\n",
       " 0,\n",
       " 0,\n",
       " 1,\n",
       " 0,\n",
       " 0,\n",
       " 0,\n",
       " 0,\n",
       " 0,\n",
       " 0,\n",
       " 0,\n",
       " 0,\n",
       " 0,\n",
       " 0,\n",
       " 0,\n",
       " 0,\n",
       " 0,\n",
       " 0,\n",
       " 0,\n",
       " 0,\n",
       " 0,\n",
       " 0,\n",
       " 0,\n",
       " 0,\n",
       " 0,\n",
       " 0,\n",
       " 0,\n",
       " 0,\n",
       " 0,\n",
       " 0,\n",
       " 0,\n",
       " 0,\n",
       " 0,\n",
       " 0,\n",
       " 0,\n",
       " 0,\n",
       " 0,\n",
       " 0,\n",
       " 0,\n",
       " 0,\n",
       " 0,\n",
       " 0,\n",
       " 0,\n",
       " 0,\n",
       " 0,\n",
       " 0,\n",
       " 0,\n",
       " 0,\n",
       " 0,\n",
       " 0,\n",
       " 0,\n",
       " 0,\n",
       " 0,\n",
       " 0,\n",
       " 0,\n",
       " 0,\n",
       " 0,\n",
       " 0,\n",
       " 0,\n",
       " 0,\n",
       " 0,\n",
       " 0,\n",
       " 0,\n",
       " 0,\n",
       " 0,\n",
       " 0,\n",
       " 0,\n",
       " 0,\n",
       " 0,\n",
       " 0,\n",
       " 0,\n",
       " 0,\n",
       " 0,\n",
       " 0,\n",
       " 0,\n",
       " 0,\n",
       " 0,\n",
       " 0,\n",
       " 0,\n",
       " 0,\n",
       " 0,\n",
       " 0,\n",
       " 0,\n",
       " 0,\n",
       " 1,\n",
       " 0,\n",
       " 0,\n",
       " 0,\n",
       " 0,\n",
       " 0,\n",
       " 0,\n",
       " 0,\n",
       " 0,\n",
       " 0,\n",
       " 0,\n",
       " 0,\n",
       " 0,\n",
       " 0,\n",
       " 0,\n",
       " 0,\n",
       " 0,\n",
       " 0,\n",
       " 0,\n",
       " 0,\n",
       " 0,\n",
       " 0,\n",
       " 0,\n",
       " 0,\n",
       " 0,\n",
       " 0,\n",
       " 0,\n",
       " 0,\n",
       " 0,\n",
       " 0,\n",
       " 0,\n",
       " 0,\n",
       " 0,\n",
       " 0,\n",
       " 0,\n",
       " 0,\n",
       " 0,\n",
       " 0,\n",
       " 0,\n",
       " 0,\n",
       " 0,\n",
       " 0,\n",
       " 0,\n",
       " 0,\n",
       " 0,\n",
       " 0,\n",
       " 0,\n",
       " 0,\n",
       " 0,\n",
       " 0,\n",
       " 0,\n",
       " 0,\n",
       " 0,\n",
       " 0,\n",
       " 0,\n",
       " 0,\n",
       " 0,\n",
       " 0,\n",
       " 0,\n",
       " 0,\n",
       " 0,\n",
       " 0,\n",
       " 0,\n",
       " 0,\n",
       " 0,\n",
       " 0,\n",
       " 0,\n",
       " 0,\n",
       " 0,\n",
       " 0,\n",
       " 0,\n",
       " 0,\n",
       " 0,\n",
       " 0,\n",
       " 0,\n",
       " 0,\n",
       " 0,\n",
       " 0,\n",
       " 0,\n",
       " 0,\n",
       " 0,\n",
       " 0,\n",
       " 0,\n",
       " 0,\n",
       " 0,\n",
       " 0,\n",
       " 0,\n",
       " 0,\n",
       " 0,\n",
       " 0,\n",
       " 0,\n",
       " 0,\n",
       " 0,\n",
       " 0,\n",
       " 0,\n",
       " 0,\n",
       " 0,\n",
       " 0,\n",
       " 0,\n",
       " 0,\n",
       " 0,\n",
       " 0,\n",
       " 0,\n",
       " 0,\n",
       " 0,\n",
       " 0,\n",
       " 0,\n",
       " 0,\n",
       " 0,\n",
       " 0,\n",
       " 0,\n",
       " 0,\n",
       " 0,\n",
       " 0,\n",
       " 0,\n",
       " 0,\n",
       " 0,\n",
       " 0,\n",
       " 0,\n",
       " 0,\n",
       " 0,\n",
       " 0,\n",
       " 1,\n",
       " 0,\n",
       " 0,\n",
       " 0,\n",
       " 0,\n",
       " 0,\n",
       " 0,\n",
       " 0,\n",
       " 0,\n",
       " 0,\n",
       " 0,\n",
       " 0,\n",
       " 0,\n",
       " ...]"
      ]
     },
     "execution_count": 138,
     "metadata": {},
     "output_type": "execute_result"
    }
   ],
   "source": [
    "pred = []\n",
    "for i in test_cluster.tolist():\n",
    "    pred.append(labels[i])\n",
    "sum(pred)\n",
    "# tmp = labels.iloc[test_cluster,]\n",
    "# (tmp.to_numpy() == 1).sum()"
   ]
  },
  {
   "cell_type": "code",
   "execution_count": null,
   "metadata": {
    "colab": {
     "base_uri": "https://localhost:8080/"
    },
    "executionInfo": {
     "elapsed": 449,
     "status": "ok",
     "timestamp": 1668174124983,
     "user": {
      "displayName": "Hanwen Li",
      "userId": "17980221068096728332"
     },
     "user_tz": -480
    },
    "id": "7iEfISSR6PsB",
    "outputId": "447cf96c-6af2-4ff6-e61f-5da16d048588"
   },
   "outputs": [
    {
     "data": {
      "text/plain": [
       "15535"
      ]
     },
     "execution_count": 115,
     "metadata": {},
     "output_type": "execute_result"
    }
   ],
   "source": [
    "train_y[0]"
   ]
  },
  {
   "cell_type": "markdown",
   "metadata": {
    "id": "CfxMsfCgfNjS"
   },
   "source": [
    "## Logistic Regression"
   ]
  },
  {
   "cell_type": "code",
   "execution_count": null,
   "metadata": {
    "id": "9PcrFn9C1QX8"
   },
   "outputs": [],
   "source": [
    "from sklearn.linear_model import LogisticRegression"
   ]
  },
  {
   "cell_type": "code",
   "execution_count": null,
   "metadata": {
    "id": "EYtG2oEiyir2"
   },
   "outputs": [],
   "source": [
    "def LR(train, valid, test, train_y, valid_y, plot_auc=True):\n",
    "    reg = LogisticRegression(solver='lbfgs', max_iter=100, C=1e-5, penalty=\"l2\", multi_class=\"ovr\", class_weight=None, random_state=seed)\n",
    "    # reg = LogisticRegression(solver='liblinear', max_iter=100, C=1e3, penalty=\"l1\", multi_class=\"ovr\", class_weight=None, random_state=seed)\n",
    "    reg.fit(train, train_y)\n",
    "    return evaluate(reg, train, valid, test, train_y, valid_y, return_pred=True, plot_auc=True)"
   ]
  },
  {
   "cell_type": "code",
   "execution_count": null,
   "metadata": {
    "colab": {
     "base_uri": "https://localhost:8080/",
     "height": 364
    },
    "executionInfo": {
     "elapsed": 12342,
     "status": "ok",
     "timestamp": 1669537466706,
     "user": {
      "displayName": "Hanwen Li",
      "userId": "17980221068096728332"
     },
     "user_tz": -480
    },
    "id": "P1Nygw6ygcFF",
    "outputId": "e13e7356-d8b5-4e78-b440-0ad048656e40"
   },
   "outputs": [
    {
     "name": "stdout",
     "output_type": "stream",
     "text": [
      "Train Accuracy: 0.9304; Validation Accuracy: 0.9403\n",
      "Train AUROC: 0.8685\n",
      "Valid AUROC: 0.8337\n",
      "\n"
     ]
    },
    {
     "data": {
      "image/png": "[encoded data removed]",
      "text/plain": [
       "<Figure size 432x288 with 1 Axes>"
      ]
     },
     "metadata": {},
     "output_type": "display_data"
    }
   ],
   "source": [
    "pred_test = LR(train, valid, test, train_y, valid_y)"
   ]
  },
  {
   "cell_type": "code",
   "execution_count": null,
   "metadata": {
    "colab": {
     "base_uri": "https://localhost:8080/",
     "height": 364
    },
    "executionInfo": {
     "elapsed": 1007,
     "status": "ok",
     "timestamp": 1669537919336,
     "user": {
      "displayName": "Hanwen Li",
      "userId": "17980221068096728332"
     },
     "user_tz": -480
    },
    "id": "P4JjO5wm_fwN",
    "outputId": "8a81be18-eee5-444d-ab32-b87f9fcd48aa"
   },
   "outputs": [
    {
     "name": "stdout",
     "output_type": "stream",
     "text": [
      "Train Accuracy: 0.9304; Validation Accuracy: 0.9353\n",
      "Train AUROC: 0.8639\n",
      "Valid AUROC: 0.6618\n",
      "\n"
     ]
    },
    {
     "data": {
      "image/png": "[encoded data removed]",
      "text/plain": [
       "<Figure size 432x288 with 1 Axes>"
      ]
     },
     "metadata": {},
     "output_type": "display_data"
    }
   ],
   "source": [
    "pred_test = LR(pca_train, pca_valid, pca_test, train_y, valid_y)"
   ]
  },
  {
   "cell_type": "code",
   "execution_count": null,
   "metadata": {
    "colab": {
     "base_uri": "https://localhost:8080/",
     "height": 364
    },
    "executionInfo": {
     "elapsed": 753,
     "status": "ok",
     "timestamp": 1669538352964,
     "user": {
      "displayName": "Hanwen Li",
      "userId": "17980221068096728332"
     },
     "user_tz": -480
    },
    "id": "o_cyqMln_jnl",
    "outputId": "89e7d6ad-96ed-4d14-9206-8547826d112d"
   },
   "outputs": [
    {
     "name": "stdout",
     "output_type": "stream",
     "text": [
      "Train Accuracy: 0.9304; Validation Accuracy: 0.9398\n",
      "Train AUROC: 0.8639\n",
      "Valid AUROC: 0.8312\n",
      "\n"
     ]
    },
    {
     "data": {
      "image/png": "[encoded data removed]",
      "text/plain": [
       "<Figure size 432x288 with 1 Axes>"
      ]
     },
     "metadata": {},
     "output_type": "display_data"
    }
   ],
   "source": [
    "pred_test = LR(svd_train, svd_valid, svd_test, train_y, valid_y)"
   ]
  },
  {
   "cell_type": "code",
   "execution_count": null,
   "metadata": {
    "cellView": "form",
    "colab": {
     "base_uri": "https://localhost:8080/",
     "height": 366
    },
    "executionInfo": {
     "elapsed": 496,
     "status": "ok",
     "timestamp": 1669545903569,
     "user": {
      "displayName": "Hanwen Li",
      "userId": "17980221068096728332"
     },
     "user_tz": -480
    },
    "id": "gV5i9gCpsDzj",
    "outputId": "ea90c88e-2bfd-4676-f6a8-f861a869a8be"
   },
   "outputs": [
    {
     "name": "stdout",
     "output_type": "stream",
     "text": [
      "Train Accuracy: 0.9269; Validation Accuracy: 0.9365\n",
      "Train AUROC: 0.5217\n",
      "Valid AUROC: 0.5000\n",
      "\n"
     ]
    },
    {
     "data": {
      "image/png": "[encoded data removed]",
      "text/plain": [
       "<Figure size 432x288 with 1 Axes>"
      ]
     },
     "metadata": {
      "needs_background": "light"
     },
     "output_type": "display_data"
    }
   ],
   "source": [
    "#@title 有点离谱了叭\n",
    "pred_test = LR(kpca_train, kpca_valid, kpca_test, train_y, valid_y)"
   ]
  },
  {
   "cell_type": "code",
   "execution_count": null,
   "metadata": {
    "colab": {
     "base_uri": "https://localhost:8080/",
     "height": 366
    },
    "executionInfo": {
     "elapsed": 445,
     "status": "ok",
     "timestamp": 1669545908811,
     "user": {
      "displayName": "Hanwen Li",
      "userId": "17980221068096728332"
     },
     "user_tz": -480
    },
    "id": "KZiIZeApqhNT",
    "outputId": "302f4e81-aca0-4553-cbb4-d9b1edf1ea71"
   },
   "outputs": [
    {
     "name": "stdout",
     "output_type": "stream",
     "text": [
      "Train Accuracy: 0.9269; Validation Accuracy: 0.9365\n",
      "Train AUROC: 0.7288\n",
      "Valid AUROC: 0.7280\n",
      "\n"
     ]
    },
    {
     "data": {
      "image/png": "[encoded data removed]",
      "text/plain": [
       "<Figure size 432x288 with 1 Axes>"
      ]
     },
     "metadata": {
      "needs_background": "light"
     },
     "output_type": "display_data"
    }
   ],
   "source": [
    "pred_test = LR(ae_train, ae_valid, ae_test, train_y, valid_y)"
   ]
  },
  {
   "cell_type": "code",
   "execution_count": null,
   "metadata": {
    "colab": {
     "base_uri": "https://localhost:8080/",
     "height": 364
    },
    "executionInfo": {
     "elapsed": 44049,
     "status": "ok",
     "timestamp": 1669537999895,
     "user": {
      "displayName": "Hanwen Li",
      "userId": "17980221068096728332"
     },
     "user_tz": -480
    },
    "id": "kvA391XDOkso",
    "outputId": "ce1f823c-e7e4-4df1-d5fa-ac1292bd4d58"
   },
   "outputs": [
    {
     "name": "stdout",
     "output_type": "stream",
     "text": [
      "Train Accuracy: 0.8345; Validation Accuracy: 0.7916\n",
      "Train AUROC: 0.9081\n",
      "Valid AUROC: 0.8506\n",
      "\n"
     ]
    },
    {
     "data": {
      "image/png": "[encoded data removed]",
      "text/plain": [
       "<Figure size 432x288 with 1 Axes>"
      ]
     },
     "metadata": {},
     "output_type": "display_data"
    }
   ],
   "source": [
    "from imblearn.over_sampling import SMOTE\n",
    "\n",
    "train_resampled, train_y_resampled = SMOTE(random_state=seed).fit_resample(train, train_y)\n",
    "pred_test = LR(train_resampled, valid, test, train_y_resampled, valid_y)"
   ]
  },
  {
   "cell_type": "code",
   "execution_count": null,
   "metadata": {
    "id": "yRNAU9i9d1iY"
   },
   "outputs": [],
   "source": []
  },
  {
   "cell_type": "markdown",
   "metadata": {
    "id": "YTp-AfvKs8Sk"
   },
   "source": [
    "## LDA"
   ]
  },
  {
   "cell_type": "code",
   "execution_count": null,
   "metadata": {
    "id": "qV988KJttCRY"
   },
   "outputs": [],
   "source": [
    "from sklearn.discriminant_analysis import LinearDiscriminantAnalysis"
   ]
  },
  {
   "cell_type": "code",
   "execution_count": null,
   "metadata": {
    "colab": {
     "base_uri": "https://localhost:8080/"
    },
    "executionInfo": {
     "elapsed": 495000,
     "status": "ok",
     "timestamp": 1669541210535,
     "user": {
      "displayName": "Hanwen Li",
      "userId": "17980221068096728332"
     },
     "user_tz": -480
    },
    "id": "4BSqxPpEtCcX",
    "outputId": "d025b89d-0ada-44d0-f719-d8b329104a5e"
   },
   "outputs": [
    {
     "name": "stdout",
     "output_type": "stream",
     "text": [
      "Train Accuracy: 0.9675; Validation Accuracy: 0.9273\n",
      "Train AUROC: 0.9693\n",
      "Valid AUROC: 0.8266\n",
      "\n"
     ]
    },
    {
     "data": {
      "image/png": "[encoded data removed]",
      "text/plain": [
       "<Figure size 432x288 with 1 Axes>"
      ]
     },
     "metadata": {
      "needs_background": "light"
     },
     "output_type": "display_data"
    }
   ],
   "source": [
    "lda = LinearDiscriminantAnalysis(solver=\"lsqr\", shrinkage=\"auto\")\n",
    "lda.fit(train, train_y)\n",
    "pred_test = evaluate(lda, train, valid, test, train_y, valid_y, return_pred=True, version=1, return_auc=False, plot_auc=True)\n",
    "\n",
    "# lda_train = lda.fit_transform(train, train_y)\n",
    "# lda_valid = lda.transform(valid)\n",
    "# lda_test = lda.transform(test)\n",
    "# pred_test = lda.predict(valid)"
   ]
  },
  {
   "cell_type": "code",
   "execution_count": null,
   "metadata": {
    "id": "skz9CMIUtCjT"
   },
   "outputs": [],
   "source": []
  },
  {
   "cell_type": "markdown",
   "metadata": {
    "id": "GZ_WEBTWdyzI"
   },
   "source": [
    "## KNN"
   ]
  },
  {
   "cell_type": "code",
   "execution_count": null,
   "metadata": {
    "id": "Qrr_zLrVd0QR"
   },
   "outputs": [],
   "source": [
    "from sklearn.neighbors import KNeighborsClassifier"
   ]
  },
  {
   "cell_type": "code",
   "execution_count": null,
   "metadata": {
    "id": "3B2Bxb9ud7_b"
   },
   "outputs": [],
   "source": [
    "def KNN(train, valid, test, train_y, valid_y, k=5):\n",
    "    knn = KNeighborsClassifier(n_neighbors=k)\n",
    "    knn.fit(train, train_y)\n",
    "    return evaluate(knn, train, valid, test, train_y, valid_y, return_pred=True, plot_auc=True)"
   ]
  },
  {
   "cell_type": "code",
   "execution_count": null,
   "metadata": {
    "id": "3VqY2OHVd8Hf"
   },
   "outputs": [],
   "source": [
    "# for i in range(3, 11, 2):\n",
    "#     print(f\"K = {i}\")\n",
    "#     pred = KNN(train, valid, test, train_y, valid_y, k=i)"
   ]
  },
  {
   "cell_type": "code",
   "execution_count": null,
   "metadata": {
    "colab": {
     "base_uri": "https://localhost:8080/"
    },
    "executionInfo": {
     "elapsed": 347282,
     "status": "ok",
     "timestamp": 1669541560636,
     "user": {
      "displayName": "Hanwen Li",
      "userId": "17980221068096728332"
     },
     "user_tz": -480
    },
    "id": "Yn9nCkIsd8YY",
    "outputId": "adb728a5-a661-4e9b-9859-f1c9cf11c240"
   },
   "outputs": [
    {
     "name": "stdout",
     "output_type": "stream",
     "text": [
      "Train Accuracy: 0.9352; Validation Accuracy: 0.9378\n",
      "Train AUROC: 0.9877\n",
      "Valid AUROC: 0.5487\n",
      "\n"
     ]
    },
    {
     "data": {
      "image/png": "[encoded data removed]",
      "text/plain": [
       "<Figure size 432x288 with 1 Axes>"
      ]
     },
     "metadata": {
      "needs_background": "light"
     },
     "output_type": "display_data"
    }
   ],
   "source": [
    "pred_test = KNN(train, valid, test, train_y, valid_y, k=3)"
   ]
  },
  {
   "cell_type": "code",
   "execution_count": null,
   "metadata": {
    "colab": {
     "base_uri": "https://localhost:8080/"
    },
    "executionInfo": {
     "elapsed": 366412,
     "status": "ok",
     "timestamp": 1669546379541,
     "user": {
      "displayName": "Hanwen Li",
      "userId": "17980221068096728332"
     },
     "user_tz": -480
    },
    "id": "c72yxMcClo9R",
    "outputId": "9d521f02-9f0c-4cb7-faa2-c407632ba7ca"
   },
   "outputs": [
    {
     "name": "stdout",
     "output_type": "stream",
     "text": [
      "Train Accuracy: 0.9269; Validation Accuracy: 0.9365\n",
      "Train AUROC: 0.6810\n",
      "Valid AUROC: 0.5217\n",
      "\n"
     ]
    },
    {
     "data": {
      "image/png": "[encoded data removed]",
      "text/plain": [
       "<Figure size 432x288 with 1 Axes>"
      ]
     },
     "metadata": {
      "needs_background": "light"
     },
     "output_type": "display_data"
    }
   ],
   "source": [
    "pred_test = KNN(train, valid, test, train_y, valid_y, k=30)"
   ]
  },
  {
   "cell_type": "markdown",
   "metadata": {
    "id": "A_tRokDGWj9F"
   },
   "source": [
    "## Random Forest"
   ]
  },
  {
   "cell_type": "code",
   "execution_count": null,
   "metadata": {
    "id": "rpV4UP3AWxHM"
   },
   "outputs": [],
   "source": [
    "from sklearn.ensemble import RandomForestClassifier"
   ]
  },
  {
   "cell_type": "code",
   "execution_count": null,
   "metadata": {
    "colab": {
     "base_uri": "https://localhost:8080/"
    },
    "executionInfo": {
     "elapsed": 121098,
     "status": "ok",
     "timestamp": 1669546567018,
     "user": {
      "displayName": "Hanwen Li",
      "userId": "17980221068096728332"
     },
     "user_tz": -480
    },
    "id": "iG_VL_xltGIB",
    "outputId": "e460111a-47a1-4598-ba57-1464524b17b5"
   },
   "outputs": [
    {
     "name": "stdout",
     "output_type": "stream",
     "text": [
      "Train Accuracy: 1.0000; Validation Accuracy: 0.9415\n",
      "Train AUROC: 1.0000\n",
      "Valid AUROC: 0.8702\n",
      "\n"
     ]
    },
    {
     "data": {
      "image/png": "[encoded data removed]",
      "text/plain": [
       "<Figure size 432x288 with 1 Axes>"
      ]
     },
     "metadata": {
      "needs_background": "light"
     },
     "output_type": "display_data"
    }
   ],
   "source": [
    "rf = RandomForestClassifier(random_state=seed, criterion=\"gini\")\n",
    "rf.fit(train, train_y)\n",
    "pred_test = evaluate(rf, train, valid, test, train_y, valid_y, return_pred=True, plot_auc=True)"
   ]
  },
  {
   "cell_type": "code",
   "execution_count": null,
   "metadata": {
    "colab": {
     "base_uri": "https://localhost:8080/"
    },
    "executionInfo": {
     "elapsed": 443697,
     "status": "ok",
     "timestamp": 1669542004328,
     "user": {
      "displayName": "Hanwen Li",
      "userId": "17980221068096728332"
     },
     "user_tz": -480
    },
    "id": "qJ9yaDUTrvIB",
    "outputId": "a05b8135-2f3e-4ccb-9865-8a02380d43e2"
   },
   "outputs": [
    {
     "name": "stdout",
     "output_type": "stream",
     "text": [
      "Train Accuracy: 0.8659; Validation Accuracy: 0.8576\n",
      "Train AUROC: 0.9076\n",
      "Valid AUROC: 0.8665\n",
      "\n"
     ]
    },
    {
     "data": {
      "image/png": "[encoded data removed]",
      "text/plain": [
       "<Figure size 432x288 with 1 Axes>"
      ]
     },
     "metadata": {
      "needs_background": "light"
     },
     "output_type": "display_data"
    }
   ],
   "source": [
    "rf = RandomForestClassifier(\n",
    "    random_state=seed,\n",
    "    criterion=\"gini\",\n",
    "    max_depth=None,\n",
    "    max_features=\"sqrt\",\n",
    "    n_estimators=4000,\n",
    "    min_samples_split=200,\n",
    "    max_samples=4000,\n",
    "    ccp_alpha=0, \n",
    "    class_weight=\"balanced_subsample\"\n",
    ")\n",
    "rf.fit(train, train_y)\n",
    "pred_test = evaluate(rf, train, valid, test, train_y, valid_y, return_pred=True, plot_auc=True)"
   ]
  },
  {
   "cell_type": "markdown",
   "metadata": {
    "id": "EYs0rF8okZ6H"
   },
   "source": [
    "## XGBOOST"
   ]
  },
  {
   "cell_type": "code",
   "execution_count": null,
   "metadata": {
    "id": "KBXokIixkhF3"
   },
   "outputs": [],
   "source": [
    "from xgboost import XGBClassifier\n",
    "import xgboost"
   ]
  },
  {
   "cell_type": "code",
   "execution_count": null,
   "metadata": {
    "colab": {
     "base_uri": "https://localhost:8080/"
    },
    "executionInfo": {
     "elapsed": 23106,
     "status": "ok",
     "timestamp": 1669544010968,
     "user": {
      "displayName": "Hanwen Li",
      "userId": "17980221068096728332"
     },
     "user_tz": -480
    },
    "id": "pAzQnqbMkccj",
    "outputId": "1db919b0-aef6-4fbe-f68d-176cfc763a4f"
   },
   "outputs": [
    {
     "name": "stdout",
     "output_type": "stream",
     "text": [
      "Train Accuracy: 0.9402; Validation Accuracy: 0.9474\n",
      "Train AUROC: 0.9022\n",
      "Valid AUROC: 0.8906\n",
      "\n"
     ]
    },
    {
     "data": {
      "image/png": "[encoded data removed]",
      "text/plain": [
       "<Figure size 432x288 with 1 Axes>"
      ]
     },
     "metadata": {
      "needs_background": "light"
     },
     "output_type": "display_data"
    }
   ],
   "source": [
    "try:\n",
    "    train_ = train.to_numpy()[:, mi_importance_index]\n",
    "    valid_ = valid.to_numpy()[:, mi_importance_index]\n",
    "    test_ = test.to_numpy()[:, mi_importance_index]\n",
    "except:\n",
    "    train_ = train[:, mi_importance_index]\n",
    "    valid_ = valid[:, mi_importance_index]\n",
    "    test_ = test[:, mi_importance_index]\n",
    "train_, valid_, test_ = std(train_, valid_, test_)\n",
    "\n",
    "if num > 1000:\n",
    "    colsample = max(0.4, 0.75 - (num // 100) * 0.01)\n",
    "else:\n",
    "    colsample = 0.8\n",
    "\n",
    "xgb = XGBClassifier(\n",
    "    random_state = seed,\n",
    "    n_estimators = 200,\n",
    "    # grow_policy = \"lossguide\",\n",
    "    # scale_pos_weight = 1.5,\n",
    "    max_depth = 3,\n",
    "    # learning_rate = 0.1,\n",
    "    eval_metric = [\"auc\"],\n",
    "    # subsample = 0.8,\n",
    "    colsample_bytree = 0.68,\n",
    "    min_child_weight = 40,\n",
    "    # reg_alpha = i,\n",
    "    reg_lambda = 5,\n",
    "    gamma = 10,\n",
    ")\n",
    "\n",
    "final_gb = xgb.fit(train_, train_y, eval_set=[(train_, train_y), (valid_, valid_y)], verbose=False, early_stopping_rounds=15)\n",
    "pred_test = evaluate(xgb, train_, valid_, test_, train_y, valid_y, return_pred=True, version=1, plot_auc=True)\n",
    "# xgb.save_model(f\"./xgbmodels/task1-{num}-{xgb.best_ntree_limit}.json\")"
   ]
  },
  {
   "cell_type": "markdown",
   "metadata": {
    "id": "eAiNA2ZjlMmz"
   },
   "source": [
    "## XGBOOST Best"
   ]
  },
  {
   "cell_type": "code",
   "execution_count": null,
   "metadata": {
    "id": "Gjr-E1oz1KlA"
   },
   "outputs": [],
   "source": [
    "from xgboost import XGBClassifier\n",
    "import xgboost"
   ]
  },
  {
   "cell_type": "code",
   "execution_count": null,
   "metadata": {
    "id": "8DLCGTqilebW"
   },
   "outputs": [],
   "source": [
    "train = pd.read_pickle('./data/X_train.pkl')\n",
    "valid = pd.read_pickle('./data/X_valid.pkl')\n",
    "test = pd.read_pickle('./data/X_test.pkl')"
   ]
  },
  {
   "cell_type": "code",
   "execution_count": null,
   "metadata": {
    "id": "7ODdTEfKlOaU"
   },
   "outputs": [],
   "source": [
    "feature_num = train.shape[1]\n",
    "mi_importance = np.load(f\"./data/MI_importance_{feature_num}.npy\")\n",
    "\n",
    "num = 3000\n",
    "mi_importance_index = np.argpartition(mi_importance, -num)[-num:]"
   ]
  },
  {
   "cell_type": "code",
   "execution_count": null,
   "metadata": {
    "colab": {
     "base_uri": "https://localhost:8080/"
    },
    "executionInfo": {
     "elapsed": 147324,
     "status": "ok",
     "timestamp": 1669549589200,
     "user": {
      "displayName": "Hanwen Li",
      "userId": "17980221068096728332"
     },
     "user_tz": -480
    },
    "id": "TaKxSP_nlOix",
    "outputId": "d2d2ea42-0f14-45c6-8991-5b2420340716"
   },
   "outputs": [
    {
     "name": "stdout",
     "output_type": "stream",
     "text": [
      "Train Accuracy: 0.9449; Validation Accuracy: 0.9465\n",
      "Train AUROC: 0.9395\n",
      "Valid AUROC: 0.9093\n",
      "\n"
     ]
    },
    {
     "data": {
      "image/png": "[encoded data removed]",
      "text/plain": [
       "<Figure size 432x288 with 1 Axes>"
      ]
     },
     "metadata": {
      "needs_background": "light"
     },
     "output_type": "display_data"
    }
   ],
   "source": [
    "try:\n",
    "    train_ = train.to_numpy()[:, mi_importance_index]\n",
    "    valid_ = valid.to_numpy()[:, mi_importance_index]\n",
    "    test_ = test.to_numpy()[:, mi_importance_index]\n",
    "except:\n",
    "    train_ = train[:, mi_importance_index]\n",
    "    valid_ = valid[:, mi_importance_index]\n",
    "    test_ = test[:, mi_importance_index]\n",
    "train_, valid_, test_ = std(train_, valid_, test_)\n",
    "\n",
    "if num > 1000:\n",
    "    colsample = max(0.4, 0.75 - (num // 100) * 0.01)\n",
    "else:\n",
    "    colsample = 0.8\n",
    "\n",
    "xgb = XGBClassifier(\n",
    "    random_state = seed,\n",
    "    n_estimators = 200,\n",
    "    # grow_policy = \"lossguide\",\n",
    "    # scale_pos_weight = 1.5,\n",
    "    max_depth = 3,\n",
    "    # learning_rate = 0.1,\n",
    "    eval_metric = [\"auc\"],\n",
    "    subsample = 0.95,\n",
    "    colsample_bytree = 0.65,\n",
    "    min_child_weight = 30,\n",
    "    # reg_alpha = i,\n",
    "    reg_lambda = 8,\n",
    "    gamma = 12,\n",
    ")\n",
    "\n",
    "final_gb = xgb.fit(train_, train_y, eval_set=[(train_, train_y), (valid_, valid_y)], verbose=False, early_stopping_rounds=15)\n",
    "pred_test_1 = evaluate(xgb, train_, valid_, test_, train_y, valid_y, return_pred=True, version=1, plot_auc=True)\n",
    "# xgb.save_model(f\"./xgbmodels/task1-{num}-{xgb.best_ntree_limit}.json\")"
   ]
  },
  {
   "cell_type": "code",
   "execution_count": null,
   "metadata": {
    "colab": {
     "base_uri": "https://localhost:8080/"
    },
    "executionInfo": {
     "elapsed": 213010,
     "status": "ok",
     "timestamp": 1669549888929,
     "user": {
      "displayName": "Hanwen Li",
      "userId": "17980221068096728332"
     },
     "user_tz": -480
    },
    "id": "MOHBeev91QGm",
    "outputId": "bdbe6130-a790-426e-9e94-212e1680cccb"
   },
   "outputs": [
    {
     "name": "stdout",
     "output_type": "stream",
     "text": [
      "Train Accuracy: 0.9486; Validation Accuracy: 0.9457\n",
      "Train AUROC: 0.9465\n",
      "Valid AUROC: 0.9090\n",
      "\n"
     ]
    },
    {
     "data": {
      "image/png": "[encoded data removed]",
      "text/plain": [
       "<Figure size 432x288 with 1 Axes>"
      ]
     },
     "metadata": {
      "needs_background": "light"
     },
     "output_type": "display_data"
    }
   ],
   "source": [
    "try:\n",
    "    train_ = train.to_numpy()[:, mi_importance_index]\n",
    "    valid_ = valid.to_numpy()[:, mi_importance_index]\n",
    "    test_ = test.to_numpy()[:, mi_importance_index]\n",
    "except:\n",
    "    train_ = train[:, mi_importance_index]\n",
    "    valid_ = valid[:, mi_importance_index]\n",
    "    test_ = test[:, mi_importance_index]\n",
    "train_, valid_, test_ = std(train_, valid_, test_)\n",
    "\n",
    "if num > 1000:\n",
    "    colsample = max(0.4, 0.75 - (num // 100) * 0.01)\n",
    "else:\n",
    "    colsample = 0.8\n",
    "\n",
    "xgb = XGBClassifier(\n",
    "    random_state = seed,\n",
    "    n_estimators = 200,\n",
    "    # grow_policy = \"lossguide\",\n",
    "    # scale_pos_weight = 1.5,\n",
    "    max_depth = 3,\n",
    "    # learning_rate = 0.1,\n",
    "    eval_metric = [\"auc\"],\n",
    "    # subsample = 0.8,\n",
    "    colsample_bytree = 0.68,\n",
    "    min_child_weight = 40,\n",
    "    # reg_alpha = i,\n",
    "    reg_lambda = 5,\n",
    "    gamma = 10,\n",
    ")\n",
    "\n",
    "final_gb = xgb.fit(train_, train_y, eval_set=[(train_, train_y), (valid_, valid_y)], verbose=False, early_stopping_rounds=15)\n",
    "pred_test = evaluate(xgb, train_, valid_, test_, train_y, valid_y, return_pred=True, version=1, plot_auc=True)\n",
    "# xgb.save_model(f\"./xgbmodels/task1-{num}-{xgb.best_ntree_limit}.json\")"
   ]
  },
  {
   "cell_type": "code",
   "execution_count": null,
   "metadata": {
    "id": "uAgebIdv2e-E"
   },
   "outputs": [],
   "source": [
    "allin = np.array(pd.read_csv(\"./allin.csv\").iloc[:, 1])\n",
    "\n",
    "# rf_train_y = xgb.predict_proba(train_)[:,1]\n",
    "# rf_valid_y = xgb.predict_proba(valid_)[:,1]\n",
    "# pred = xgb.predict_proba(test_)[:,1]"
   ]
  },
  {
   "cell_type": "code",
   "execution_count": null,
   "metadata": {
    "id": "zGPttaTp4T2j"
   },
   "outputs": [],
   "source": [
    "# best1\n",
    "prob = [0.65, 0.15, 0.2]\n",
    "# best2\n",
    "prob = [0.58, 0.22, 0.2]\n",
    "prob = [0.7, 0.1, 0.2]\n",
    "# bestn\n",
    "prob = [0.45, 0.3, 0.25]\n",
    "prob = [0.45, 0.4, 0.15]\n",
    "\n",
    "pred_test_new = pred_test * prob[0] + pred_test_1 * prob[1] + allin * prob[2]"
   ]
  },
  {
   "cell_type": "code",
   "execution_count": null,
   "metadata": {
    "id": "EtV22G_z3CNn"
   },
   "outputs": [],
   "source": [
    "# for i in np.arange(0, 1.1, 0.1):\n",
    "#     print(f\"{i:.1f}\")\n",
    "#     new_pred_train = i * allin + (1 - i) * rf_train_y\n",
    "#     new_pred_valid = i * allin + (1 - i) * rf_valid_y\n",
    "#     cm = confusion_matrix(train_y, rf_train_y)\n",
    "#     tn, fp, fn, tp = cm.ravel()\n",
    "#     print(f\"Train AUROC: {roc_auc_score(train_y, rf_train_y):.4f}; FP: {fp:>4d}; FN: {fn:>4d}\")\n",
    "#     cm = confusion_matrix(valid_y, rf_valid_y)\n",
    "#     tn, fp, fn, tp = cm.ravel()\n",
    "#     print(f\"Valid AUROC: {roc_auc_score(valid_y, rf_valid_y):.4f}; FP: {fp:>4d}; FN: {fn:>4d}\")\n",
    "#     print()"
   ]
  },
  {
   "cell_type": "code",
   "execution_count": null,
   "metadata": {
    "id": "_d9kHPdZPs2w"
   },
   "outputs": [],
   "source": []
  },
  {
   "cell_type": "markdown",
   "metadata": {
    "id": "qElCDWvsaRbX"
   },
   "source": [
    "### Join Train + Valid"
   ]
  },
  {
   "cell_type": "code",
   "execution_count": null,
   "metadata": {
    "id": "tlr1ETpJR0nE"
   },
   "outputs": [],
   "source": [
    "train = pd.read_pickle('./data/X_train.pkl')\n",
    "valid = pd.read_pickle('./data/X_valid.pkl')\n",
    "test = pd.read_pickle('./data/X_test.pkl')\n",
    "\n",
    "feature_num = 7488\n",
    "mi_importance = np.load(f\"./data/MI_importance_{feature_num}.npy\")\n",
    "\n",
    "num = 3000\n",
    "mi_importance_index = np.argpartition(mi_importance, -num)[-num:]"
   ]
  },
  {
   "cell_type": "code",
   "execution_count": null,
   "metadata": {
    "id": "2mFyle-taV_m"
   },
   "outputs": [],
   "source": [
    "try:\n",
    "    train = pd.concat([train, valid])\n",
    "except:\n",
    "    train = np.concatenate([train, valid], axis=0)"
   ]
  },
  {
   "cell_type": "code",
   "execution_count": null,
   "metadata": {
    "id": "1WZbkSZmaZWp"
   },
   "outputs": [],
   "source": [
    "try:\n",
    "    train_y = pd.concat([train_y, valid_y])\n",
    "except:\n",
    "    train_y = np.concatenate([train_y, valid_y], axis=0)"
   ]
  },
  {
   "cell_type": "code",
   "execution_count": null,
   "metadata": {
    "colab": {
     "base_uri": "https://localhost:8080/"
    },
    "executionInfo": {
     "elapsed": 4,
     "status": "ok",
     "timestamp": 1669555788601,
     "user": {
      "displayName": "Hanwen Li",
      "userId": "17980221068096728332"
     },
     "user_tz": -480
    },
    "id": "KvzKVvIBRGQL",
    "outputId": "f6cfb270-e61a-4707-bfa3-31612ee85e73"
   },
   "outputs": [
    {
     "data": {
      "text/plain": [
       "(19154, 7488)"
      ]
     },
     "execution_count": 117,
     "metadata": {},
     "output_type": "execute_result"
    }
   ],
   "source": [
    "train.shape"
   ]
  },
  {
   "cell_type": "markdown",
   "metadata": {
    "id": "cx9wEBCpXZwH"
   },
   "source": [
    "#### CV"
   ]
  },
  {
   "cell_type": "code",
   "execution_count": null,
   "metadata": {
    "colab": {
     "base_uri": "https://localhost:8080/"
    },
    "executionInfo": {
     "elapsed": 937048,
     "status": "ok",
     "timestamp": 1669556832930,
     "user": {
      "displayName": "Hanwen Li",
      "userId": "17980221068096728332"
     },
     "user_tz": -480
    },
    "id": "Z7KlUTtrQlLe",
    "outputId": "a5b7b78e-9a8d-4630-89e6-9ffddaba42a2"
   },
   "outputs": [
    {
     "name": "stdout",
     "output_type": "stream",
     "text": [
      ">>> CV = 1 <<<\n",
      "Train Accuracy: 0.9494; Validation Accuracy: 0.9394\n",
      "Train AUROC: 0.9442\n",
      "Valid AUROC: 0.8949\n",
      "\n",
      ">>> CV = 2 <<<\n",
      "Train Accuracy: 0.9503; Validation Accuracy: 0.9371\n",
      "Train AUROC: 0.9501\n",
      "Valid AUROC: 0.9017\n",
      "\n",
      ">>> CV = 3 <<<\n",
      "Train Accuracy: 0.9467; Validation Accuracy: 0.9394\n",
      "Train AUROC: 0.9428\n",
      "Valid AUROC: 0.9053\n",
      "\n",
      ">>> CV = 4 <<<\n",
      "Train Accuracy: 0.9474; Validation Accuracy: 0.9389\n",
      "Train AUROC: 0.9428\n",
      "Valid AUROC: 0.9120\n",
      "\n",
      ">>> CV = 5 <<<\n",
      "Train Accuracy: 0.9471; Validation Accuracy: 0.9379\n",
      "Train AUROC: 0.9422\n",
      "Valid AUROC: 0.8992\n",
      "\n"
     ]
    }
   ],
   "source": [
    "from sklearn.model_selection import KFold\n",
    "\n",
    "kf = KFold(n_splits=5, random_state=seed, shuffle=True)\n",
    "# imbalanced = 1\n",
    "i = 1\n",
    "pred_list = []\n",
    "for train_index, valid_index in kf.split(train):\n",
    "    print(f\">>> CV = {i} <<<\")\n",
    "    i += 1\n",
    "    # print(\"Train:\", train_index, \"Valid:\", valid_index)\n",
    "    try:\n",
    "        kf_train, kf_valid = train.to_numpy()[train_index], train.to_numpy()[valid_index]\n",
    "        std(kf_train, kf_train)\n",
    "        kf_train_y, kf_valid_y = train_y.to_numpy()[train_index], train_y.to_numpy()[valid_index]\n",
    "    except:\n",
    "        kf_train, kf_valid = train[train_index], train[valid_index]\n",
    "        std(kf_train, kf_train)\n",
    "        kf_train_y, kf_valid_y = train_y.to_numpy()[train_index], train_y.to_numpy()[valid_index]\n",
    "    \n",
    "    try:\n",
    "        train_ = kf_train.to_numpy()[:, mi_importance_index]\n",
    "        valid_ = kf_valid.to_numpy()[:, mi_importance_index]\n",
    "        test_ = test.to_numpy()[:, mi_importance_index]\n",
    "    except:\n",
    "        train_ = kf_train[:, mi_importance_index]\n",
    "        valid_ = kf_valid[:, mi_importance_index]\n",
    "        test_ = test.to_numpy()[:, mi_importance_index]\n",
    "    train_, valid_, test_ = std(train_, valid_, test_)\n",
    "\n",
    "    if num > 1000:\n",
    "        colsample = max(0.4, 0.75 - (num // 100) * 0.01)\n",
    "    else:\n",
    "        colsample = 0.8\n",
    "\n",
    "    xgb = XGBClassifier(\n",
    "        random_state = seed,\n",
    "        n_estimators = 200,\n",
    "        # grow_policy = \"lossguide\",\n",
    "        # scale_pos_weight = 1.5,\n",
    "        max_depth = 3,\n",
    "        # learning_rate = 0.1,\n",
    "        eval_metric = [\"auc\"],\n",
    "        subsample = 0.95,\n",
    "        colsample_bytree = 0.65,\n",
    "        min_child_weight = 30,\n",
    "        # reg_alpha = i,\n",
    "        reg_lambda = 8,\n",
    "        gamma = 12,\n",
    "    )\n",
    "\n",
    "    final_gb = xgb.fit(train_, kf_train_y, eval_set=[(train_, kf_train_y), (valid_, kf_valid_y)], verbose=False, early_stopping_rounds=15)\n",
    "    pred_test_1 = evaluate(xgb, train_, valid_, test_, kf_train_y, kf_valid_y, return_pred=True, version=1, plot_auc=False)\n",
    "    pred_list.append(pred_test_1)"
   ]
  },
  {
   "cell_type": "code",
   "execution_count": null,
   "metadata": {
    "id": "htyuHH4gWIKo"
   },
   "outputs": [],
   "source": [
    "from functools import reduce\n",
    "\n",
    "pred_test_new = pred_list[0] * 0.15 + pred_list[0] * 0.2 + pred_list[0] * 0.2 + pred_list[0] * 0.25 + pred_list[0] * 0.2\n",
    "# pred_test_new = reduce(lambda x, y: x+y, pred_list) / 5"
   ]
  },
  {
   "cell_type": "markdown",
   "metadata": {
    "id": "sjwRjcglVPB9"
   },
   "source": [
    "## Prediction"
   ]
  },
  {
   "cell_type": "code",
   "execution_count": null,
   "metadata": {
    "id": "7GIArMSEzSB-"
   },
   "outputs": [],
   "source": [
    "id = pd.read_pickle(\"./stat3612-project-task1/test_id.pkl\").values\n",
    "with open('prediction.csv', 'w') as f:\n",
    "    f.write('Id,Predicted\\n')\n",
    "    for i, y in enumerate(pred_test):\n",
    "        f.write('{},{}\\n'.format(id[i], y))"
   ]
  },
  {
   "cell_type": "code",
   "execution_count": null,
   "metadata": {
    "id": "ibs0hhQfHyMZ"
   },
   "outputs": [],
   "source": [
    "id = pd.read_pickle(\"./stat3612-project-task1/test_id.pkl\").values\n",
    "with open('prediction.csv', 'w') as f:\n",
    "    f.write('Id,Predicted\\n')\n",
    "    for i, y in enumerate(pred_test_new):\n",
    "        f.write('{},{}\\n'.format(id[i], y))"
   ]
  }
 ],
 "metadata": {
  "colab": {
   "collapsed_sections": [
    "O0FkVpnWZys3",
    "OJru7LH9elnF",
    "oYWTQsbMvNxU",
    "BU-7p6a6tYSI",
    "Uyau2YLn-rZ9",
    "ctrtihBKvU-4",
    "A3wXjomx0m6L",
    "WP0QBUJta9q1",
    "hHzMb0GQ0cjT",
    "V5B0fvIJt0eT",
    "RNM2W7vveN9Z",
    "xYvYIzYL0PGM",
    "lAZr3QAJoDyk",
    "0NbXzm3p2dpH",
    "CfxMsfCgfNjS",
    "YTp-AfvKs8Sk",
    "GZ_WEBTWdyzI",
    "A_tRokDGWj9F",
    "EYs0rF8okZ6H",
    "eAiNA2ZjlMmz",
    "qElCDWvsaRbX",
    "cx9wEBCpXZwH"
   ],
   "provenance": [
    {
     "file_id": "1s87YXYaBXnCIdjloxyxcvfG3aHvdybB1",
     "timestamp": 1669532726882
    }
   ]
  },
  "kernelspec": {
   "display_name": "Python 3 (ipykernel)",
   "language": "python",
   "name": "python3"
  },
  "language_info": {
   "codemirror_mode": {
    "name": "ipython",
    "version": 3
   },
   "file_extension": ".py",
   "mimetype": "text/x-python",
   "name": "python",
   "nbconvert_exporter": "python",
   "pygments_lexer": "ipython3",
   "version": "3.9.12"
  }
 },
 "nbformat": 4,
 "nbformat_minor": 1
}
